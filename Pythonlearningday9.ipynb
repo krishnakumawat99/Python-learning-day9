{
  "nbformat": 4,
  "nbformat_minor": 0,
  "metadata": {
    "colab": {
      "provenance": []
    },
    "kernelspec": {
      "name": "python3",
      "display_name": "Python 3"
    },
    "language_info": {
      "name": "python"
    }
  },
  "cells": [
    {
      "cell_type": "code",
      "execution_count": 13,
      "metadata": {
        "id": "BDbD1WWWpJeR",
        "colab": {
          "base_uri": "https://localhost:8080/"
        },
        "outputId": "05225fab-dffc-485b-da9f-43f9450cbea4"
      },
      "outputs": [
        {
          "output_type": "stream",
          "name": "stdout",
          "text": [
            "* * * * \n",
            "- * * * \n",
            "- - * * \n",
            "- - - * \n"
          ]
        }
      ],
      "source": [
        "for i in range(4, 0, -1):\n",
        "    for x in range(4 - i):\n",
        "        print(\"-\", end=\" \")\n",
        "    for y in range(i):\n",
        "        print(\"*\", end=\" \")\n",
        "    print()"
      ]
    },
    {
      "cell_type": "code",
      "source": [
        "for i in range(1,5):\n",
        "  for j in range(1,i):\n",
        "    print(\"-\",end=\" \")\n",
        "  for k in range(i,5):\n",
        "    print(\"*\",end=\" \")\n",
        "  print()"
      ],
      "metadata": {
        "colab": {
          "base_uri": "https://localhost:8080/"
        },
        "id": "px7P6sfzpgI-",
        "outputId": "713bb1aa-ebba-45dd-9772-3cda8826f9f1"
      },
      "execution_count": 12,
      "outputs": [
        {
          "output_type": "stream",
          "name": "stdout",
          "text": [
            "* * * * \n",
            "- * * * \n",
            "- - * * \n",
            "- - - * \n"
          ]
        }
      ]
    },
    {
      "cell_type": "code",
      "source": [
        "for i in range(1,5):\n",
        "  for j in range(i,4):\n",
        "    print(\"-\",end=\" \")\n",
        "  for k in range(i):\n",
        "    print(\"*\",end=\" \")\n",
        "  print()"
      ],
      "metadata": {
        "colab": {
          "base_uri": "https://localhost:8080/"
        },
        "id": "Kh8FWhAbqA0P",
        "outputId": "6fa0cb1b-6b46-4527-ccea-93badc554177"
      },
      "execution_count": 28,
      "outputs": [
        {
          "output_type": "stream",
          "name": "stdout",
          "text": [
            "- - - * \n",
            "- - * * \n",
            "- * * * \n",
            "* * * * \n"
          ]
        }
      ]
    },
    {
      "cell_type": "code",
      "source": [
        "for i in range(4):\n",
        "    for j in range(3 - i):\n",
        "        print(\"-\", end=\" \")\n",
        "    for k in range(i + 1):\n",
        "        print(\"*\", end=\" \")\n",
        "    print()"
      ],
      "metadata": {
        "colab": {
          "base_uri": "https://localhost:8080/"
        },
        "id": "RIAPvwd5q8ha",
        "outputId": "6da9c8c8-fa09-4b6b-9a30-867ce749f216"
      },
      "execution_count": 25,
      "outputs": [
        {
          "output_type": "stream",
          "name": "stdout",
          "text": [
            "- - - * \n",
            "- - * * \n",
            "- * * * \n",
            "* * * * \n"
          ]
        }
      ]
    },
    {
      "cell_type": "code",
      "source": [
        "for i in range(1, 6):\n",
        "    for j in range(i, 5):\n",
        "        print(\"-\", end=\" \")\n",
        "    for k in range(1, i + 1):\n",
        "        print(k, end=\" \")\n",
        "    print()"
      ],
      "metadata": {
        "colab": {
          "base_uri": "https://localhost:8080/"
        },
        "id": "idkDmnT_sB7k",
        "outputId": "75e4d513-9409-40bb-addc-b1f5195da736"
      },
      "execution_count": 30,
      "outputs": [
        {
          "output_type": "stream",
          "name": "stdout",
          "text": [
            "- - - - 1 \n",
            "- - - 1 2 \n",
            "- - 1 2 3 \n",
            "- 1 2 3 4 \n",
            "1 2 3 4 5 \n"
          ]
        }
      ]
    },
    {
      "cell_type": "code",
      "source": [
        "for i in range(1,5):\n",
        "    for j in range(i-1):\n",
        "        print(\"-\", end=\" \")\n",
        "    for k in range(5-i):\n",
        "        print(chr(65 + k), end=\" \")\n",
        "    print()"
      ],
      "metadata": {
        "colab": {
          "base_uri": "https://localhost:8080/"
        },
        "id": "B8ljh2AAtaDc",
        "outputId": "2891788f-ac3a-4f41-a8f0-085b4448cb01"
      },
      "execution_count": 52,
      "outputs": [
        {
          "output_type": "stream",
          "name": "stdout",
          "text": [
            "A B C D \n",
            "- A B C \n",
            "- - A B \n",
            "- - - A \n"
          ]
        }
      ]
    },
    {
      "cell_type": "code",
      "source": [
        "num=4\n",
        "for i in range(1,5):\n",
        "    for j in range(i-1):\n",
        "        print(\"-\", end=\" \")\n",
        "    for k in range(5 - i):\n",
        "        print(num, end=\" \")\n",
        "        num += 1\n",
        "    print()"
      ],
      "metadata": {
        "colab": {
          "base_uri": "https://localhost:8080/"
        },
        "id": "MTM5hCiDuoXB",
        "outputId": "63f5ead0-baf9-4333-962a-e2b4aa4ab405"
      },
      "execution_count": 55,
      "outputs": [
        {
          "output_type": "stream",
          "name": "stdout",
          "text": [
            "4 5 6 7 \n",
            "- 8 9 10 \n",
            "- - 11 12 \n",
            "- - - 13 \n"
          ]
        }
      ]
    },
    {
      "cell_type": "code",
      "source": [
        "for i in range(1,6):\n",
        "    for j in range(1,i + 1):\n",
        "        if (j==1 or i==5 or j==i):\n",
        "            print(\"*\", end=\" \")\n",
        "        else:\n",
        "            print(\"-\", end=\" \")\n",
        "    print()"
      ],
      "metadata": {
        "colab": {
          "base_uri": "https://localhost:8080/"
        },
        "id": "DBRfP3yhv-kz",
        "outputId": "e7e18f75-4de1-4d05-a06e-dd2183154af8"
      },
      "execution_count": 69,
      "outputs": [
        {
          "output_type": "stream",
          "name": "stdout",
          "text": [
            "* \n",
            "* * \n",
            "* - * \n",
            "* - - * \n",
            "* * * * * \n"
          ]
        }
      ]
    },
    {
      "cell_type": "code",
      "source": [
        "num = 7\n",
        "for i in range(1,num+1):\n",
        "    for j in range(1, i + 1):\n",
        "        if j == 1 or i==num or j == i:\n",
        "            print(\"*\", end=\" \")\n",
        "        else:\n",
        "            print(\"-\", end=\" \")\n",
        "    print()"
      ],
      "metadata": {
        "colab": {
          "base_uri": "https://localhost:8080/"
        },
        "id": "hQe57iqE1co5",
        "outputId": "2d8dbae2-6349-4071-8b04-84a51e4c6af8"
      },
      "execution_count": 84,
      "outputs": [
        {
          "output_type": "stream",
          "name": "stdout",
          "text": [
            "* \n",
            "* * \n",
            "* - * \n",
            "* - - * \n",
            "* - - - * \n",
            "* - - - - * \n",
            "* * * * * * * \n"
          ]
        }
      ]
    },
    {
      "cell_type": "code",
      "source": [
        "for i in range(1,6):\n",
        "    for j in range(1,i):\n",
        "        print(\"-\", end=\" \")\n",
        "\n",
        "    for k in range(i,6):\n",
        "      if(k==5 or i==1 or k==i):\n",
        "        print(\"*\", end=\" \")\n",
        "      else:\n",
        "        print(\"o\",end=\" \")\n",
        "    print()"
      ],
      "metadata": {
        "colab": {
          "base_uri": "https://localhost:8080/"
        },
        "id": "IiOTi7UO4E50",
        "outputId": "414edf02-b4c0-4b67-c6d4-015dc40cfa21"
      },
      "execution_count": 96,
      "outputs": [
        {
          "output_type": "stream",
          "name": "stdout",
          "text": [
            "* * * * * \n",
            "- * o o * \n",
            "- - * o * \n",
            "- - - * * \n",
            "- - - - * \n"
          ]
        }
      ]
    },
    {
      "cell_type": "code",
      "source": [],
      "metadata": {
        "id": "QBecXST14kPu"
      },
      "execution_count": null,
      "outputs": []
    }
  ]
}